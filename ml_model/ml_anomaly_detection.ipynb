{
 "cells": [
  {
   "cell_type": "code",
   "execution_count": null,
   "id": "cfd61abe",
   "metadata": {},
   "outputs": [],
   "source": [
    "import sqlite3\n",
    "import pandas as pd\n",
    "import matplotlib.pyplot as plt\n",
    "import seaborn as sns\n",
    "from sklearn.ensemble import IsolationForest\n",
    "from sklearn.preprocessing import LabelEncoder"
   ]
  },
  {
   "cell_type": "code",
   "execution_count": null,
   "id": "21fc4640",
   "metadata": {},
   "outputs": [],
   "source": [
    "# carregando dados do sqlite\n",
    "conn = sqlite3.connect(\"../sqlite_loader/siem_logs.db\")\n",
    "df = pd.read_sql_query(\"SELECT * FROM siem_logs\", conn)\n",
    "conn.close()\n",
    "\n",
    "print(\"Data loaded successfully\")\n",
    "print(df.head())"
   ]
  },
  {
   "cell_type": "code",
   "execution_count": null,
   "id": "f7d6a8cc",
   "metadata": {},
   "outputs": [],
   "source": [
    "# pré processamento básico\n",
    "# remover colunas irrelevantes para o modelo ou dificeis de processar diretamente\n",
    "# a ideia é manter apenas algumas features simples\n",
    "features = ['event_type','status','device','location']\n",
    "df_clean = df[features].copy()\n",
    "\n",
    "# codificar as variaveis categóricas\n",
    "le_dict = {}\n",
    "for col in df_clean.columns:\n",
    "    le = LabelEncoder()\n",
    "    df_clean[col] = le.fit_transform(df_clean[col])\n",
    "    le_dict[col] = le\n",
    "\n",
    "print(\"Data after encoding: \")\n",
    "print(df_clean.head())"
   ]
  },
  {
   "cell_type": "code",
   "execution_count": null,
   "id": "5a412ec2",
   "metadata": {},
   "outputs": [],
   "source": [
    "# aplicando isolation forest\n",
    "model = IsolationForest(n_estimators=100, contamination=0.1, random_state=42)\n",
    "df['anomaly_pred'] = model.fit_predict(df_clean)\n",
    "\n",
    "# -1 indica anomalia, 1 indica normal\n",
    "df['is_anomaly'] = df['anomaly_pred'] == -1"
   ]
  },
  {
   "cell_type": "code",
   "execution_count": null,
   "id": "2242cad5",
   "metadata": {},
   "outputs": [],
   "source": [
    "# visualização simples\n",
    "plt.figure(figsize=(8,4))\n",
    "sns.countplot(x='is_anomaly', data=df)\n",
    "plt.title(\"Distribuição de logs anômalos vs normais\")\n",
    "plt.xlabel(\"é anômalo?\")\n",
    "plt.ylabel(\"quantidade\")\n",
    "plt.xticks([0,1], [\"Normal\", \"Anômalo\"])\n",
    "plt.tight_layout()\n",
    "plt.show()"
   ]
  },
  {
   "cell_type": "code",
   "execution_count": null,
   "id": "39e69678",
   "metadata": {},
   "outputs": [],
   "source": [
    "# mostrar alguns logs considerados anômalos\n",
    "print(\"Exemplos de logs anômalos: \")\n",
    "print(df[df['is_anomaly']].head())"
   ]
  }
 ],
 "metadata": {
  "language_info": {
   "name": "python"
  }
 },
 "nbformat": 4,
 "nbformat_minor": 5
}
