{
 "cells": [
  {
   "cell_type": "markdown",
   "id": "4b1ed21f",
   "metadata": {},
   "source": [
    "# 📊 Log Analysis Dashboard\n",
    "This notebook provides insights and visualizations based on the log data collected through the pipeline.\n",
    "---"
   ]
  },
  {
   "cell_type": "code",
   "execution_count": null,
   "id": "2cf2c09a",
   "metadata": {},
   "outputs": [],
   "source": [
    "# Required libraries\n",
    "import sqlite3\n",
    "import pandas as pd\n",
    "import matplotlib.pyplot as plt\n",
    "import seaborn as sns\n",
    "import plotly.express as px\n",
    "import warnings\n",
    "warnings.filterwarnings('ignore')\n",
    "%matplotlib inline"
   ]
  },
  {
   "cell_type": "code",
   "execution_count": null,
   "id": "f3c189b4",
   "metadata": {},
   "outputs": [],
   "source": [
    "# Connect to the SQLite database\n",
    "conn = sqlite3.connect('../sqlite/siem_logs.db')\n",
    "query = 'SELECT * FROM siem_logs'\n",
    "df = pd.read_sql_query(query, conn)\n",
    "df.head()"
   ]
  },
  {
   "cell_type": "markdown",
   "id": "139eb994",
   "metadata": {},
   "source": [
    "## 🧼 Basic Cleaning & Info"
   ]
  },
  {
   "cell_type": "code",
   "execution_count": null,
   "id": "662a0a4b",
   "metadata": {},
   "outputs": [],
   "source": [
    "df['timestamp'] = pd.to_datetime(df['timestamp'])\n",
    "df.info()"
   ]
  },
  {
   "cell_type": "markdown",
   "id": "44f201cd",
   "metadata": {},
   "source": [
    "## 📊 Device Distribution"
   ]
  },
  {
   "cell_type": "code",
   "execution_count": null,
   "id": "8c4a6f86",
   "metadata": {},
   "outputs": [],
   "source": [
    "device_counts = df['device'].value_counts()\n",
    "fig = px.pie(names=device_counts.index, values=device_counts.values, title='Device Usage Distribution')\n",
    "fig.show()"
   ]
  },
  {
   "cell_type": "markdown",
   "id": "00c1004e",
   "metadata": {},
   "source": [
    "## 📈 Volume of Logs Over Time"
   ]
  },
  {
   "cell_type": "code",
   "execution_count": null,
   "id": "6b1c89c6",
   "metadata": {},
   "outputs": [],
   "source": [
    "df.set_index('timestamp', inplace=True)\n",
    "logs_per_hour = df.resample('1H').size()\n",
    "logs_per_hour.plot(figsize=(12,6), title='Log Volume Over Time')\n",
    "plt.xlabel('Time')\n",
    "plt.ylabel('Number of Logs')\n",
    "plt.grid(True)\n",
    "plt.tight_layout()\n",
    "plt.show()"
   ]
  },
  {
   "cell_type": "markdown",
   "id": "8accef46",
   "metadata": {},
   "source": [
    "## 👤 Top 10 Users by Number of Events"
   ]
  },
  {
   "cell_type": "code",
   "execution_count": null,
   "id": "39abb48e",
   "metadata": {},
   "outputs": [],
   "source": [
    "top_users = df['user'].value_counts().head(10)\n",
    "sns.barplot(y=top_users.index, x=top_users.values, palette='viridis')\n",
    "plt.title('Top 10 Users')\n",
    "plt.xlabel('Number of Events')\n",
    "plt.ylabel('User')\n",
    "plt.tight_layout()\n",
    "plt.show()"
   ]
  },
  {
   "cell_type": "markdown",
   "id": "feb19687",
   "metadata": {},
   "source": [
    "## 🌍 IP Geolocation (Example-based)"
   ]
  },
  {
   "cell_type": "code",
   "execution_count": null,
   "id": "3fe15ef6",
   "metadata": {},
   "outputs": [],
   "source": [
    "# Optional: Geolocation (mock example, since Faker IPs are random)\n",
    "# from ip2geotools.databases.noncommercial import DbIpCity\n",
    "# sample_ips = df['ip_address'].dropna().unique()[:5]\n",
    "# for ip in sample_ips:\n",
    "#     response = DbIpCity.get(ip, api_key='free')\n",
    "#     print(f'{ip} -> {response.city}, {response.country}')"
   ]
  },
  {
   "cell_type": "markdown",
   "id": "67063be1",
   "metadata": {},
   "source": [
    "## 🚨 Number of Anomalous Events"
   ]
  },
  {
   "cell_type": "code",
   "execution_count": null,
   "id": "3e47a8f7",
   "metadata": {},
   "outputs": [],
   "source": [
    "df['anomalous'].value_counts().plot(kind='bar', title='Anomalous vs Normal Events')\n",
    "plt.xticks(rotation=0)\n",
    "plt.ylabel('Count')\n",
    "plt.grid(True)\n",
    "plt.tight_layout()\n",
    "plt.show()"
   ]
  },
  {
   "cell_type": "markdown",
   "id": "83adae7a",
   "metadata": {},
   "source": [
    "## ✅ Status Distribution"
   ]
  },
  {
   "cell_type": "code",
   "execution_count": null,
   "id": "22f72095",
   "metadata": {},
   "outputs": [],
   "source": [
    "df['status'].value_counts().plot(kind='barh', color='skyblue', title='Event Status Distribution')\n",
    "plt.xlabel('Count')\n",
    "plt.tight_layout()\n",
    "plt.show()"
   ]
  },
  {
   "cell_type": "markdown",
   "id": "7e80c055",
   "metadata": {},
   "source": [
    "## 💾 Export to CSV"
   ]
  },
  {
   "cell_type": "code",
   "execution_count": null,
   "id": "1cab0460",
   "metadata": {},
   "outputs": [],
   "source": [
    "df.reset_index().to_csv('processed_logs.csv', index=False)\n",
    "print('Exported to processed_logs.csv')"
   ]
  }
 ],
 "metadata": {
  "language_info": {
   "name": "python"
  }
 },
 "nbformat": 4,
 "nbformat_minor": 5
}
